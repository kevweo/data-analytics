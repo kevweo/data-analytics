{
 "cells": [
  {
   "cell_type": "markdown",
   "metadata": {
    "collapsed": true
   },
   "source": [
    "### Project: analytic insights for ask and show posts on hacker news platform\n",
    "\n",
    "This project will compare posts on Hacker News (HN) platform specifically Ask HN posts (users ask the HN community a question) and Show HN posts (users show the HN community a project, product, or generally something interesting).\n",
    "\n",
    "The objective is to discover:\n",
    "* Type of HN posts (ask or show) that recieve more comments \n",
    "* The time of day at which posts are created and how this relates to the number of comments recieved\n",
    "\n",
    "The dataset to be used for this data analysis can be found [here](https://www.kaggle.com/hacker-news/hacker-news-posts)\n",
    "\n",
    "The dataset has 300,000 rows, by removing posts which did not have any comments and then randomly sampling, this has been reduced to 20,000."
   ]
  },
  {
   "cell_type": "code",
   "execution_count": 81,
   "metadata": {},
   "outputs": [
    {
     "name": "stdout",
     "output_type": "stream",
     "text": [
      "['id', 'title', 'url', 'num_points', 'num_comments', 'author', 'created_at']\n",
      "\n",
      "\n",
      "[['12224879', 'Interactive Dynamic Video', 'http://www.interactivedynamicvideo.com/', '386', '52', 'ne0phyte', '8/4/2016 11:52'], ['10975351', 'How to Use Open Source and Shut the Fuck Up at the Same Time', 'http://hueniverse.com/2016/01/26/how-to-use-open-source-and-shut-the-fuck-up-at-the-same-time/', '39', '10', 'josep2', '1/26/2016 19:30']]\n"
     ]
    }
   ],
   "source": [
    "import csv\n",
    "\n",
    "file = open('hacker_news.csv')\n",
    "hn_data = list(csv.reader(file))\n",
    "hn_header = hn_data[0]\n",
    "hn_data = hn_data[1:]\n",
    "\n",
    "# Preview data\n",
    "print(hn_header)\n",
    "print('\\n')\n",
    "print(hn_data[:2])"
   ]
  },
  {
   "cell_type": "markdown",
   "metadata": {},
   "source": [
    "This dataset includes the following columns:\n",
    "\n",
    "- `title`: title of the post (self explanatory)\n",
    "- `url`: the url of the item being linked to\n",
    "- `num_points`: the number of upvotes the post received\n",
    "- `num_comments`: the number of comments the post received\n",
    "- `author`: the name of the account that made the post\n",
    "- `created_at`: the date and time the post was made "
   ]
  },
  {
   "cell_type": "markdown",
   "metadata": {},
   "source": [
    "### HN Posts: Breakdown by total number of user posts\n",
    "\n",
    "Post have been categorised into three: 'ask hn', 'show hn' and 'others' based on the post 'title'. Posts which have a title that begins with 'ask hn' will be categorised as such, for instance, 'Ask HN: How to improve my personal website?'. The same technique will be used for categorising 'show hn' posts. The 'others' category will be used for the rest of user posts."
   ]
  },
  {
   "cell_type": "code",
   "execution_count": 82,
   "metadata": {},
   "outputs": [
    {
     "name": "stdout",
     "output_type": "stream",
     "text": [
      "1744 posts for Ask HN\n",
      "1162 posts for Show HN\n",
      "17194 posts for Others\n",
      "\n",
      "\n",
      "Posts for Ask HN\n",
      "[['12296411', 'Ask HN: How to improve my personal website?', '', '2', '6', 'ahmedbaracat', '8/16/2016 9:55'], ['10610020', 'Ask HN: Am I the only one outraged by Twitter shutting down share counts?', '', '28', '29', 'tkfx', '11/22/2015 13:43']]\n",
      "\n",
      "\n",
      "Posts for Show HN\n",
      "[['10627194', 'Show HN: Wio Link  ESP8266 Based Web of Things Hardware Development Platform', 'https://iot.seeed.cc', '26', '22', 'kfihihc', '11/25/2015 14:03'], ['10646440', 'Show HN: Something pointless I made', 'http://dn.ht/picklecat/', '747', '102', 'dhotson', '11/29/2015 22:46']]\n",
      "\n",
      "\n",
      "Posts for others\n",
      "[['12224879', 'Interactive Dynamic Video', 'http://www.interactivedynamicvideo.com/', '386', '52', 'ne0phyte', '8/4/2016 11:52'], ['10975351', 'How to Use Open Source and Shut the Fuck Up at the Same Time', 'http://hueniverse.com/2016/01/26/how-to-use-open-source-and-shut-the-fuck-up-at-the-same-time/', '39', '10', 'josep2', '1/26/2016 19:30']]\n"
     ]
    }
   ],
   "source": [
    "post_ask = []\n",
    "post_show = []\n",
    "post_other = []\n",
    "\n",
    "for post in hn_data:\n",
    "    hn_title = post[1]\n",
    "    if hn_title.lower().startswith('ask hn'):\n",
    "        post_ask.append(post)\n",
    "    elif hn_title.lower().startswith('show hn'):\n",
    "        post_show.append(post)\n",
    "    else:\n",
    "        post_other.append(post)\n",
    "        \n",
    "# Post count\n",
    "print(len(post_ask), 'posts for Ask HN')\n",
    "print(len(post_show), 'posts for Show HN')\n",
    "print(len(post_other), 'posts for Others')\n",
    "\n",
    "# Preview posts\n",
    "print('\\n')\n",
    "print('Posts for Ask HN')\n",
    "print(post_ask[:2])\n",
    "print('\\n')\n",
    "print('Posts for Show HN')\n",
    "print(post_show[:2])\n",
    "print('\\n')\n",
    "print('Posts for others')\n",
    "print(post_other[:2])"
   ]
  },
  {
   "cell_type": "markdown",
   "metadata": {},
   "source": [
    "The breakdown shows that the larger portion of the data set belongs to posts in the 'others' category. The ask posts have a total count of 1744 while for show posts, there are 1162."
   ]
  },
  {
   "cell_type": "markdown",
   "metadata": {},
   "source": [
    "### HN Posts: Breakdown by comments\n",
    "\n",
    "The breakdown for hacker news posts based on the total count for comments has been displayed below. There are over twice as much user comments for ask posts than there are comments on show posts from the hacker news community. The data shows that there are more comments on average for ask posts. \n",
    "\n",
    "| Post Type   | Comments (Total) | Comments (Avg)\n",
    "| ----------- | -----------      | -----------\n",
    "| Ask HN      | 24,483           | 14.04\n",
    "| Show HN     | 11,988           | 10.32\n"
   ]
  },
  {
   "cell_type": "code",
   "execution_count": 83,
   "metadata": {},
   "outputs": [
    {
     "name": "stdout",
     "output_type": "stream",
     "text": [
      "24,483\n",
      "14.04\n"
     ]
    }
   ],
   "source": [
    "# Total and comment avg for ask posts\n",
    "total_ask_comments = 0\n",
    "for post in post_ask:\n",
    "    comments = int(post[4])\n",
    "    total_ask_comments += comments\n",
    "    \n",
    "avg_ask_comments = total_ask_comments / len(post_ask)\n",
    "print ('{:,}'.format(total_ask_comments))\n",
    "print (round(avg_ask_comments,2))"
   ]
  },
  {
   "cell_type": "code",
   "execution_count": 84,
   "metadata": {},
   "outputs": [
    {
     "name": "stdout",
     "output_type": "stream",
     "text": [
      "11,988\n",
      "10.32\n"
     ]
    }
   ],
   "source": [
    "# Total and comment avg for show posts\n",
    "total_show_comments = 0\n",
    "for post in post_show:\n",
    "    comments = int(post[4])\n",
    "    total_show_comments += comments\n",
    "    \n",
    "avg_show_comments = total_show_comments / len(post_show)\n",
    "print ('{:,}'.format(total_show_comments))\n",
    "print (round(avg_show_comments,2))"
   ]
  },
  {
   "cell_type": "markdown",
   "metadata": {},
   "source": [
    "Progressing further with the analysis, we would like to discover if posts created at a certain time are more likely to recieve more comments from the hacker news community. This part of the analysis will only utilise ask posts reason being there is more data to work with. "
   ]
  },
  {
   "cell_type": "markdown",
   "metadata": {},
   "source": [
    "### Ask Posts: Breakdown of total comments recieved by time period\n",
    "\n",
    "Below we determine the amount of ask posts created in each hour of the day, along with the number of comments received by time period. The data shows that most ask posts recieve more comments around 15:00pm."
   ]
  },
  {
   "cell_type": "code",
   "execution_count": 85,
   "metadata": {},
   "outputs": [
    {
     "data": {
      "text/plain": [
       "{'09': 251,\n",
       " '13': 1253,\n",
       " '10': 793,\n",
       " '14': 1416,\n",
       " '16': 1814,\n",
       " '23': 543,\n",
       " '12': 687,\n",
       " '17': 1146,\n",
       " '15': 4477,\n",
       " '21': 1745,\n",
       " '20': 1722,\n",
       " '02': 1381,\n",
       " '18': 1439,\n",
       " '03': 421,\n",
       " '05': 464,\n",
       " '19': 1188,\n",
       " '01': 683,\n",
       " '22': 479,\n",
       " '08': 492,\n",
       " '04': 337,\n",
       " '00': 447,\n",
       " '06': 397,\n",
       " '07': 267,\n",
       " '11': 641}"
      ]
     },
     "execution_count": 85,
     "metadata": {},
     "output_type": "execute_result"
    }
   ],
   "source": [
    "import datetime as dt\n",
    "\n",
    "result_list = []\n",
    "\n",
    "for post in post_ask:\n",
    "    result_list.append([post[6], int(post[4])])\n",
    "\n",
    "comments_by_hour = {}\n",
    "counts_by_hour = {}\n",
    "date_format = \"%m/%d/%Y %H:%M\"\n",
    "\n",
    "for each_row in result_list:\n",
    "    dt_created = each_row[0]\n",
    "    num_comment = each_row[1]\n",
    "    time = dt.datetime.strptime(dt_created, date_format).strftime(\"%H\")\n",
    "    if time in counts_by_hour:\n",
    "        comments_by_hour[time] += num_comment\n",
    "        counts_by_hour[time] += 1\n",
    "    else:\n",
    "        comments_by_hour[time] = num_comment\n",
    "        counts_by_hour[time] = 1\n",
    "\n",
    "comments_by_hour"
   ]
  },
  {
   "cell_type": "markdown",
   "metadata": {},
   "source": [
    "### Ask Posts: Top 5 hours for most comments by time period\n",
    "\n",
    "Based on the dataset documentation, the timezone used is the eastern time in the US, 15:00 will be equivalent to 3:00 pm est. The **top 5** hours for most comments on Ask Posts are 15:00, 02:00, 20.00, 16:00 and 21.00. The hour that receives the most comments on average is 15:00 with thirty nine comments per post."
   ]
  },
  {
   "cell_type": "code",
   "execution_count": 86,
   "metadata": {},
   "outputs": [
    {
     "name": "stdout",
     "output_type": "stream",
     "text": [
      "The Top 5 Hours for 'Ask HN' Comments\n",
      "15:00: 38.59\n",
      "02:00: 23.81\n",
      "20:00: 21.52\n",
      "16:00: 16.80\n",
      "21:00: 16.01\n"
     ]
    }
   ],
   "source": [
    "avg_by_hour = []\n",
    "\n",
    "for hr in comments_by_hour:\n",
    "    avg_by_hour.append([hr, comments_by_hour[hr] / counts_by_hour[hr]])\n",
    "\n",
    "#avg_by_hour\n",
    "\n",
    "swap_avg_by_hour = []\n",
    "\n",
    "for row in avg_by_hour:\n",
    "    swap_avg_by_hour.append([row[1], row[0]])\n",
    "sorted_swap = sorted(swap_avg_by_hour, reverse=True)\n",
    "\n",
    "print(\"The Top 5 Hours for 'Ask HN' Comments\")\n",
    "for avg, hr in sorted_swap[:5]:\n",
    "    print(\n",
    "        \"{}: {:.2f}\".format(\n",
    "            dt.datetime.strptime(hr, \"%H\").strftime(\"%H:%M\"),avg\n",
    "        )\n",
    "    )"
   ]
  },
  {
   "cell_type": "markdown",
   "metadata": {},
   "source": [
    "### HN Posts: Breakdown by points\n",
    "\n",
    "The purpose of this part of the analysis will be to discover the breakdown for hacker news posts based on points. Points represent the number of upvotes the post has received over time from the hacker news community. The data shows that there are more points on average for show posts. This suggests that while ask posts will likely recieve more comments from the HN community, show posts tend have more upvotes.\n",
    "\n",
    "| Post Type   | Points (Total)   | Points (Avg)\n",
    "| ----------- | -----------      | -----------\n",
    "| Ask HN      | 26,268           | 15.06\n",
    "| Show HN     | 32,019           | 27.56\n"
   ]
  },
  {
   "cell_type": "code",
   "execution_count": 87,
   "metadata": {},
   "outputs": [
    {
     "name": "stdout",
     "output_type": "stream",
     "text": [
      "Points total for ask posts: 26,268\n",
      "Points avg for ask posts: 15.06\n",
      "\n",
      "\n",
      "Points total for show posts: 32,019\n",
      "Points avg for ask posts: 27.56\n"
     ]
    }
   ],
   "source": [
    "# Total and point avg for ask posts\n",
    "total_ask_points = 0\n",
    "for post in post_ask:\n",
    "    points = int(post[3])\n",
    "    total_ask_points += points\n",
    "    \n",
    "avg_ask_points = total_ask_points / len(post_ask)\n",
    "print ('Points total for ask posts:', '{:,}'.format(total_ask_points))\n",
    "print ('Points avg for ask posts:', round(avg_ask_points,2))\n",
    "print ('\\n')\n",
    "\n",
    "\n",
    "# Total and point avg for show posts\n",
    "total_show_points = 0\n",
    "for post in post_show:\n",
    "    points = int(post[3])\n",
    "    total_show_points += points\n",
    "    \n",
    "avg_show_points = total_show_points / len(post_show)\n",
    "print ('Points total for show posts:', '{:,}'.format(total_show_points))\n",
    "print ('Points avg for ask posts:', round(avg_show_points,2))"
   ]
  },
  {
   "cell_type": "markdown",
   "metadata": {},
   "source": [
    "### Show Posts: Breakdown of average points recieved by time period\n",
    "\n",
    "Progressing further with the point analysis, we would like to discover if posts created at a certain time are more likely to recieve more upvotes. The same technique used for the analysis of post comments will be used here, lets determine the average number of points for show posts by hour.\n"
   ]
  },
  {
   "cell_type": "code",
   "execution_count": 88,
   "metadata": {},
   "outputs": [
    {
     "data": {
      "text/plain": [
       "[['14', 25.430232558139537],\n",
       " ['22', 40.34782608695652],\n",
       " ['18', 36.31147540983606],\n",
       " ['07', 19.0],\n",
       " ['20', 30.316666666666666],\n",
       " ['05', 5.473684210526316],\n",
       " ['16', 28.322580645161292],\n",
       " ['19', 30.945454545454545],\n",
       " ['15', 28.564102564102566],\n",
       " ['03', 25.14814814814815],\n",
       " ['17', 27.107526881720432],\n",
       " ['06', 23.4375],\n",
       " ['02', 11.333333333333334],\n",
       " ['13', 24.626262626262626],\n",
       " ['08', 15.264705882352942],\n",
       " ['21', 18.425531914893618],\n",
       " ['04', 14.846153846153847],\n",
       " ['11', 33.63636363636363],\n",
       " ['12', 41.68852459016394],\n",
       " ['23', 42.388888888888886],\n",
       " ['09', 18.433333333333334],\n",
       " ['01', 25.0],\n",
       " ['10', 18.916666666666668],\n",
       " ['00', 37.83870967741935]]"
      ]
     },
     "execution_count": 88,
     "metadata": {},
     "output_type": "execute_result"
    }
   ],
   "source": [
    "import datetime as dt\n",
    "\n",
    "result_list = []\n",
    "\n",
    "for post in post_show:\n",
    "    result_list.append([post[6], int(post[3])])\n",
    "\n",
    "points_by_hour = {}\n",
    "counts_by_hour = {}\n",
    "date_format = \"%m/%d/%Y %H:%M\"\n",
    "\n",
    "for each_row in result_list:\n",
    "    dt_created = each_row[0]\n",
    "    num_point = each_row[1]\n",
    "    time = dt.datetime.strptime(dt_created, date_format).strftime(\"%H\")\n",
    "    if time in counts_by_hour:\n",
    "        points_by_hour[time] += num_point\n",
    "        counts_by_hour[time] += 1\n",
    "    else:\n",
    "        points_by_hour[time] = num_point\n",
    "        counts_by_hour[time] = 1\n",
    "\n",
    "points_by_hour\n",
    "\n",
    "avg_by_hour = []\n",
    "\n",
    "for hr in points_by_hour:\n",
    "    avg_by_hour.append([hr, points_by_hour[hr] / counts_by_hour[hr]])\n",
    "\n",
    "avg_by_hour"
   ]
  },
  {
   "cell_type": "markdown",
   "metadata": {},
   "source": [
    "The hour that receives the most points for show posts on average is 23:00. The **top 5** hours for most upvotes from the hacker news community for show posts are 23:00, 12 noon, 22.00, 00:00 and 18.00. "
   ]
  },
  {
   "cell_type": "code",
   "execution_count": 89,
   "metadata": {},
   "outputs": [
    {
     "name": "stdout",
     "output_type": "stream",
     "text": [
      "Top 5 hours for points on 'Show HN' posts\n",
      "23:00: 42.39\n",
      "12:00: 41.69\n",
      "22:00: 40.35\n",
      "00:00: 37.84\n",
      "18:00: 36.31\n"
     ]
    }
   ],
   "source": [
    "points_avg_by_hour = []\n",
    "\n",
    "for row in avg_by_hour:\n",
    "    points_avg_by_hour.append([row[1], row[0]])\n",
    "sorted_list = sorted(points_avg_by_hour, reverse=True)\n",
    "\n",
    "print(\"Top 5 hours for points on 'Show HN' posts\")\n",
    "for avg, hr in sorted_list[:5]:\n",
    "    print(\n",
    "        \"{}: {:.2f}\".format(\n",
    "            dt.datetime.strptime(hr, \"%H\").strftime(\"%H:%M\"),avg\n",
    "        )\n",
    "    )"
   ]
  },
  {
   "cell_type": "markdown",
   "metadata": {},
   "source": [
    "### Result summary\n",
    "\n",
    "This project analysed ask posts and show posts on the hacker news platform to determine which type of post and time period received the most comments and points on average. \n",
    "\n",
    "Based on the analysis, to optimise the possibility of receiving more comments, we'd recommend users to post on the hacker news platform using the 'ask hn' title and possibly create the post sometime between the time period of 15:00pm and 16:00pm EST. This time period in my timezone is between 20:00pm and 21:00pm WAT.\n",
    "\n",
    "\n",
    "| Post Type   | Comments (Total) | Comments (Avg)\n",
    "| ----------- | -----------      | -----------\n",
    "| Ask HN      | 24,483           | 14.04\n",
    "| Show HN     | 11,988           | 10.32\n",
    "\n",
    "Furthermore, on comparing both types of posts based on the points / upvotes recieved, the data shows that there are more points on average for show posts than there are for ask posts. This suggests that while 'ask hn' posts are more likely to recieve more comments from the hacker news community, 'show hn' posts tend to recieve more points.\n",
    "\n",
    "\n",
    "| Post Type   | Points (Total)   | Points (Avg)\n",
    "| ----------- | -----------      | -----------\n",
    "| Ask HN      | 26,268           | 15.06\n",
    "| Show HN     | 32,019           | 27.56\n",
    "\n"
   ]
  }
 ],
 "metadata": {
  "kernelspec": {
   "display_name": "Python 3",
   "language": "python",
   "name": "python3"
  },
  "language_info": {
   "codemirror_mode": {
    "name": "ipython",
    "version": 3
   },
   "file_extension": ".py",
   "mimetype": "text/x-python",
   "name": "python",
   "nbconvert_exporter": "python",
   "pygments_lexer": "ipython3",
   "version": "3.7.6"
  }
 },
 "nbformat": 4,
 "nbformat_minor": 2
}
