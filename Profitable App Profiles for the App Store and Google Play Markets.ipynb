{
 "cells": [
  {
   "cell_type": "markdown",
   "metadata": {
    "collapsed": true
   },
   "source": [
    "## Project: Analyse data to identify mobile apps which tend to have more users.\n",
    "\n",
    "I'm a Data Anayst for a company which builds mobile apps that are free to download on Google play store and Apple app store. The main source of revenue for our apps is by in-app ads. This means revenue is mostly influenced by number of users who use our apps — the more users that see and engage with the ads, the better for the companys revenue. \n",
    "\n",
    "The objective as a Data Analyst for this project is to analyze data to help the company understand type of apps likely to attract more users. This has the potential to help the company significantly improve our mobile app user base and subsequently increase the companys mobile revenue stream.\n",
    "\n",
    "Based on published material available on the web. The below datasets will be used during our data analysis.\n",
    "\n",
    "- Please click [here](https://www.kaggle.com/lava18/google-play-store-apps) to access documentation on google play store dataset \n",
    "\n",
    "- Please click [here](https://www.kaggle.com/ramamet4/app-store-apple-data-set-10k-apps) to access documentation on app store dataset "
   ]
  },
  {
   "cell_type": "markdown",
   "metadata": {},
   "source": [
    "Begin analysis by first reading in the sample data downloaded from the internet. The data is then stored in separate lists for Google apps and Apple apps.  "
   ]
  },
  {
   "cell_type": "code",
   "execution_count": null,
   "metadata": {
    "collapsed": false
   },
   "outputs": [],
   "source": [
    "# Read the data\n",
    "import csv\n",
    "file_google = open('googleplaystore.csv') \n",
    "read_google = csv.reader(file_google)\n",
    "data_google = list(read_google)\n",
    "data_google_header = data_google[0]\n",
    "data_google = data_google[1:]\n",
    "\n",
    "file_apple = open('AppleStore.csv')\n",
    "read_apple = csv.reader(file_apple)\n",
    "data_apple = list(read_apple)\n",
    "data_apple_header = data_apple[0]\n",
    "data_apple = data_apple[1:]"
   ]
  },
  {
   "cell_type": "markdown",
   "metadata": {},
   "source": [
    "The defined function `data_explore` will help with sampling data from the google and apple datasets"
   ]
  },
  {
   "cell_type": "code",
   "execution_count": null,
   "metadata": {
    "collapsed": false
   },
   "outputs": [],
   "source": [
    "# This function prints rows from the dataset\n",
    "def data_explore(data, start, end, rows_and_columns=False):\n",
    "    data_slice = data[start:end]\n",
    "    for row in data_slice:\n",
    "        print(row)\n",
    "        print('\\n')\n",
    "        \n",
    "    if rows_and_columns:\n",
    "        print('Number of rows:', len(data))\n",
    "        print('Number of columns:', len(data[0]))"
   ]
  },
  {
   "cell_type": "markdown",
   "metadata": {},
   "source": [
    "Based on the sample data and headers displayed below, the following data points which have details about the app name, category, reviews, downloads, and price will be very useful for getting more data insights on which category / genre of published apps tend to do well on these app stores, furthermore, this will be analysed by considering price, the company is more interested in data relating to free mobile apps in the playstore and app store."
   ]
  },
  {
   "cell_type": "code",
   "execution_count": null,
   "metadata": {
    "collapsed": false
   },
   "outputs": [],
   "source": [
    "# Preview the data\n",
    "print(data_google_header)\n",
    "data_explore(data_google, 1, 6, True)\n",
    "\n",
    "print ('\\n')\n",
    "\n",
    "print(data_apple_header)\n",
    "data_explore(data_apple, 1, 6, True)"
   ]
  },
  {
   "cell_type": "markdown",
   "metadata": {
    "collapsed": true
   },
   "source": [
    "### Data cleansing \n",
    "\n",
    "Before we progress further ahead, we need to clean the\n",
    "datasets (data cleaning) by detecting and removing:\n",
    "- duplicate data\n",
    "- inaccurate data\n",
    "- non-english apps like 爱奇艺PPS -《欢乐颂2》电视剧热播.\n",
    "- paid apps  \n",
    "\n",
    "For the time being, my company is only interested in developing\n",
    "`free` mobile appss for an english speaking audience hence we have to\n",
    "streamline our dataset for these reasons."
   ]
  },
  {
   "cell_type": "code",
   "execution_count": null,
   "metadata": {
    "collapsed": false
   },
   "outputs": [],
   "source": [
    "# Based on published information on the discussion \n",
    "# section of the google dataset, the row index [10472]\n",
    "# (excluding header) is missing its category datapoint.\n",
    "print (data_google[10472])\n",
    "del data_google[10472]"
   ]
  },
  {
   "cell_type": "markdown",
   "metadata": {},
   "source": [
    "The defined function `duplicate` will help with finding duplicate data from the google and apple datasets"
   ]
  },
  {
   "cell_type": "code",
   "execution_count": null,
   "metadata": {
    "collapsed": false
   },
   "outputs": [],
   "source": [
    "#This function checks for duplicates \n",
    "def duplicate(data,index,dataset):\n",
    "    duplicate_list = []\n",
    "    unique_list = []\n",
    "    for app in data:\n",
    "        name=app[index]\n",
    "        if name in unique_list:\n",
    "            duplicate_list.append(name)\n",
    "        else:\n",
    "            unique_list.append(name)\n",
    "    print ('There are' , len(duplicate_list) , 'apps in the ' + dataset)\n",
    "    print ('\\n')\n",
    "    print ('This is a duplicate app in the ' + dataset , ':', duplicate_list[:16])\n",
    "    print ('\\n')"
   ]
  },
  {
   "cell_type": "code",
   "execution_count": null,
   "metadata": {
    "collapsed": false
   },
   "outputs": [],
   "source": [
    "duplicate(data_google,0,'playstore dataset')\n",
    "duplicate(data_apple,1,'appstore dataset')"
   ]
  },
  {
   "cell_type": "markdown",
   "metadata": {},
   "source": [
    "The higher the number of reviews, the more recent the data should be, hence for the data analysis, only the row with the highest number of reviews will be kept while other duplicate entries will be removed."
   ]
  },
  {
   "cell_type": "code",
   "execution_count": null,
   "metadata": {
    "collapsed": false
   },
   "outputs": [],
   "source": [
    "reviews_max={}\n",
    "for app in data_google:\n",
    "    name=app[0]\n",
    "    n_reviews=float(app[3])\n",
    "    if name in reviews_max and reviews_max[name] < n_reviews:\n",
    "        reviews_max[name] = n_reviews\n",
    "    elif name not in reviews_max:\n",
    "        reviews_max[name] = n_reviews\n",
    "print ('There will be', len(reviews_max), 'rows left when duplicates are removed from the playstore dataset')"
   ]
  },
  {
   "cell_type": "markdown",
   "metadata": {},
   "source": [
    "The `data_google_clean` list will not have duplicate enteries because the duplicates have been removed by keeping only data rows with the highest review."
   ]
  },
  {
   "cell_type": "code",
   "execution_count": null,
   "metadata": {
    "collapsed": false
   },
   "outputs": [],
   "source": [
    "data_google_clean=[]\n",
    "already_added=[]\n",
    "for app in data_google:\n",
    "    name=app[0]\n",
    "    n_reviews=float(app[3])\n",
    "    if n_reviews == reviews_max[name] and name not in already_added:\n",
    "        data_google_clean.append(app)\n",
    "        already_added.append(name)\n",
    "data_explore(data_google_clean, 1, 6, True)"
   ]
  },
  {
   "cell_type": "markdown",
   "metadata": {},
   "source": [
    "There are some mobile apps in the datasets which are for non-English audience. These will be removed since the company is more focused on developing English based apps. The `ord` built in python function will be used to reduce the data set to only the apps which have the character range between `0-127` in ASCII [American Standard Code for Information Interchange]."
   ]
  },
  {
   "cell_type": "code",
   "execution_count": null,
   "metadata": {
    "collapsed": false
   },
   "outputs": [],
   "source": [
    "# Preview data on non-english apps\n",
    "print(data_apple[813])\n",
    "print(data_apple[6731])"
   ]
  },
  {
   "cell_type": "markdown",
   "metadata": {},
   "source": [
    "The `data_english` function will help to remove data on non-English related mobile apps."
   ]
  },
  {
   "cell_type": "code",
   "execution_count": null,
   "metadata": {
    "collapsed": false
   },
   "outputs": [],
   "source": [
    "# This function removes rows on non-English mobile apps\n",
    "def data_english(dstr):\n",
    "    count=0\n",
    "    for char in dstr:\n",
    "        dord=ord(char)\n",
    "        #print(dord)\n",
    "        if dord > 127:\n",
    "            count+=1\n",
    "    if count > 3:\n",
    "        return False\n",
    "    else:\n",
    "        return True\n",
    "print(data_english('Instagram'))\n",
    "print(data_english('爱奇艺PPS -《欢乐颂2》电视剧热播'))\n",
    "print(data_english('Docs To Go™ Free Office Suite'))\n",
    "print(data_english('Instachat 😜'))"
   ]
  },
  {
   "cell_type": "markdown",
   "metadata": {},
   "source": [
    "The `data_eng_clean` and `data_eng_apple` list will only contain data on English related mobile apps because the non-English related rows have been removed from the datasets."
   ]
  },
  {
   "cell_type": "code",
   "execution_count": null,
   "metadata": {
    "collapsed": false
   },
   "outputs": [],
   "source": [
    "data_eng_google=[]\n",
    "data_eng_apple=[]\n",
    "for app in data_google_clean:\n",
    "    name=app[0]\n",
    "    if data_english(name):\n",
    "        data_eng_google.append(app)\n",
    "\n",
    "for app in data_apple:\n",
    "    name=app[1]\n",
    "    if data_english(name):\n",
    "        data_eng_apple.append(app)"
   ]
  },
  {
   "cell_type": "code",
   "execution_count": null,
   "metadata": {
    "collapsed": false
   },
   "outputs": [],
   "source": [
    "# Preview data\n",
    "data_explore(data_eng_google, 0, 3, True)\n",
    "data_explore(data_eng_apple, 0, 3, True)"
   ]
  },
  {
   "cell_type": "markdown",
   "metadata": {},
   "source": [
    "The paid apps will be removed from the datasets by creating a final data list which does not have mobile apps with a price that is greater than `0.0`. The `data_final_google` and `data_final_apple` data list will be used for recommendation to the company when the data points have been adequately analysed further."
   ]
  },
  {
   "cell_type": "code",
   "execution_count": null,
   "metadata": {
    "collapsed": false
   },
   "outputs": [],
   "source": [
    "data_final_google=[]\n",
    "data_final_apple=[]\n",
    "\n",
    "for app in data_eng_google:\n",
    "    price=app[7]\n",
    "    if price == '0':\n",
    "        data_final_google.append(app)\n",
    "\n",
    "for app in data_eng_apple:\n",
    "    price=app[4]\n",
    "    if price == '0.0':\n",
    "        data_final_apple.append(app)\n",
    "\n",
    "print('There are' , len(data_final_google) , 'mobile apps remaining in the playstore dataset')\n",
    "print('There are' , len(data_final_apple) , 'mobile apps remaining in the appstore dataset')"
   ]
  },
  {
   "cell_type": "markdown",
   "metadata": {},
   "source": [
    "### Prepare the data for final analysis by building computations on percentages\n",
    "The data is ready to be analysed. The objective as a Data Analyst for this project was to analyze the sample data on mobile apps in the Google playstore and Apple apps store to help the company understand type of apps likely to attract more users. This has the potential to help the company significantly improve its mobile app user base and subsequently increase the companys mobile revenue stream."
   ]
  },
  {
   "cell_type": "code",
   "execution_count": null,
   "metadata": {
    "collapsed": true
   },
   "outputs": [],
   "source": [
    "# This function builds a frequency table for the \n",
    "# prime_genre data column of the app store dataset \n",
    "# and the genres and catrgory column of the playstore \n",
    "# dataset which will be displayed in percentages\n",
    "def data_freq(data, index):\n",
    "    datafreq={}\n",
    "    total=0\n",
    "    for app in data:\n",
    "        total +=1\n",
    "        datac = app[index]\n",
    "        if datac in datafreq:\n",
    "            datafreq[datac]+=1\n",
    "        else:\n",
    "            datafreq[datac]=1\n",
    "    \n",
    "    data_perc={}\n",
    "    for app in datafreq:\n",
    "        perc = (datafreq[app]/total)*100\n",
    "        data_perc[app] = perc\n",
    "    return data_perc\n",
    "\n",
    "# This function will display the percentages \n",
    "# developed in data_freq by descending order\n",
    "def display_table(data, index):\n",
    "    dataf = data_freq(data, index)\n",
    "    data_display = []\n",
    "    for key in dataf:\n",
    "        key_val_as_tuple = (dataf[key], key)\n",
    "        data_display.append(key_val_as_tuple)\n",
    "        \n",
    "    data_sorted = sorted(data_display, reverse = True)\n",
    "    for entry in data_sorted:\n",
    "        print(entry[1], ':', entry[0])"
   ]
  },
  {
   "cell_type": "markdown",
   "metadata": {},
   "source": [
    "Based on the data below generated from the Apple app store dataset, the `Games` genre seems to be miles ahead in representation with 58% while `Entertainment` genre takes distant second place with 7.8%. The genral impression is that mobile apps designed for entertainment such as games, social networking seem to be more available than mobile apps designed for practical purposes for instance (productivity, news, weather, finace)."
   ]
  },
  {
   "cell_type": "code",
   "execution_count": null,
   "metadata": {
    "collapsed": false
   },
   "outputs": [],
   "source": [
    "display_table(data_final_apple, -5)"
   ]
  },
  {
   "cell_type": "markdown",
   "metadata": {},
   "source": [
    "Based on the data below generated from the Google playstore dataset, the `Family` and `Game` genre seem to be have a higher availability percentage with a combined percentage of 28.64% taking first and second place respectively. The genral impression here as was similarly observed in the app store dataset is that mobile apps designed for entertainment seem to be highly represented than mobile apps designed for practical purposes for instance (productivity, finance, medical).\n",
    "\n",
    "But, based on further observation, unlike the app store dataset which had a combined percentage of 66% for the top two popular genres geared towards fun/entertainment, the google play store only has 28.64% in direct comparison. This gives the impression that productivity apps tend to also do well in the google playstore dataset. For instance mobile apps in the genres: tools, business, productivety, finance and medical combine for a percentage 24.11%. \n",
    "\n",
    "This data shows a more balanced landscape of both practical and fun apps in the Google playstore compared with the Apple app store which seems to be highly dominated by mobile apps designed for fun / entertainment."
   ]
  },
  {
   "cell_type": "code",
   "execution_count": null,
   "metadata": {
    "collapsed": false
   },
   "outputs": [],
   "source": [
    "display_table(data_final_google, 1)"
   ]
  },
  {
   "cell_type": "markdown",
   "metadata": {},
   "source": [
    "The below will help to discover the most popular genres in the app store dataset, based on the total number of users, remember, the objective is to find the genre of apps which have the most users for both datasets. For the playstore dataset, the installs column will be useful, but for the app store dataset, the total number of user ratings will be used as a proxy, which we can find in the rating_count_tot column."
   ]
  },
  {
   "cell_type": "code",
   "execution_count": null,
   "metadata": {
    "collapsed": false
   },
   "outputs": [],
   "source": [
    "data_genres_apple = data_freq(data_final_apple, -5)\n",
    "\n",
    "for genre in data_genres_apple:\n",
    "    total = 0\n",
    "    len_genre = 0\n",
    "    for app in data_final_apple:\n",
    "        data_genre = app[-5]\n",
    "        if data_genre == genre:            \n",
    "            ratings = float(app[5])\n",
    "            total += ratings\n",
    "            len_genre += 1\n",
    "    ratings_avg = total / len_genre\n",
    "    print(genre, ':', ratings_avg)"
   ]
  },
  {
   "cell_type": "markdown",
   "metadata": {},
   "source": [
    "The data shows that the highest number of user reviews belong to `Navigation` genre, but this figure seems to be highly influenced by the popularity of google maps and waze, which have close to half a million user reviews together. This pattern seems to be the same with the `Social Networking` genre where the average number of user reviews is highly influenced by popular organisations for instance Facebook and Microsoft. "
   ]
  },
  {
   "cell_type": "code",
   "execution_count": null,
   "metadata": {
    "collapsed": false
   },
   "outputs": [],
   "source": [
    "for app in data_final_apple:\n",
    "    if app[-5] == 'Navigation':\n",
    "        print(app[1], ':', app[5])"
   ]
  },
  {
   "cell_type": "markdown",
   "metadata": {},
   "source": [
    "Besides the `Navigation` and `Social Networking` genre which have data that might be skewing the results due to the popularity of certain high profile mobile apps, the `Reference` genre seems to be doing quite well on the app store with 74,942 user based reviews on the average. By diving further into this genre, below, it could be observered that the Bible and Dictionary.com mobile apps which skew up the average rating for the `Reference` genre. \n",
    "\n",
    "Publishing a free mobile app in the `Reference` genre could be promising for the company since the objective is to significantly increase the user base, this genre seems to be doing very well and keeping up with the popularity of genres like navigation and social networking. Publishing mobile versions of highly popular books could prove to be a success for bringing in more mobile users. Possibly, this could be a book which could be geared towards family / fun by integrating puzzles, mini games, thereby building parts of these highly popular genres into the possible ideas for the potential mobile apps. "
   ]
  },
  {
   "cell_type": "code",
   "execution_count": null,
   "metadata": {
    "collapsed": false
   },
   "outputs": [],
   "source": [
    "for app in data_final_apple:\n",
    "    if app[-5] == 'Reference':\n",
    "        print(app[1], ':', app[5])"
   ]
  },
  {
   "cell_type": "markdown",
   "metadata": {},
   "source": [
    "The below displays the total count on installs for data in the playstore dataset but this data point is not precise, for instance, we are not particularly certain whether an app with 100,000+ installs has 100,000 installs, 200,000, or 350,000."
   ]
  },
  {
   "cell_type": "code",
   "execution_count": null,
   "metadata": {
    "collapsed": false
   },
   "outputs": [],
   "source": [
    "# Preview data based on installs \n",
    "display_table(data_final_google, 5)"
   ]
  },
  {
   "cell_type": "markdown",
   "metadata": {},
   "source": [
    "The below helps to compute the average number of installs for each genre (category) in the google playstore dataset for a better data analysis and subsequently mobile app recommendation."
   ]
  },
  {
   "cell_type": "code",
   "execution_count": null,
   "metadata": {
    "collapsed": false
   },
   "outputs": [],
   "source": [
    "google_categories = data_freq(data_final_google, 1)\n",
    "\n",
    "for category in google_categories:\n",
    "    total = 0\n",
    "    len_category = 0\n",
    "    for app in data_final_google:\n",
    "        category_app = app[1]\n",
    "        if category_app == category:            \n",
    "            n_installs = app[5]\n",
    "            n_installs = n_installs.replace(',', '')\n",
    "            n_installs = n_installs.replace('+', '')\n",
    "            total += float(n_installs)\n",
    "            len_category += 1\n",
    "    avg_n_installs = total / len_category\n",
    "    print(category, ':', avg_n_installs)"
   ]
  },
  {
   "cell_type": "markdown",
   "metadata": {},
   "source": [
    "The data shows that communication apps have the most installs: 38,456,119 but like previously observed in the app store dataset, the figure is highly skewed up by very popular apps which have over one billion installs for instance (WhatsApp, Facebook Messenger, Skype, Google Chrome, Gmail). \n",
    "\n",
    "The google playstore is dominated by highly popular apps for instance like Youtube. The same pattern is repeated for popular social apps for instance Facebook, Instagram, Google+, and others), photography apps (Google Photos and other popular photo editors), or productivity apps (Microsoft Word, Dropbox, Google Calendar, Evernote, etc.)."
   ]
  },
  {
   "cell_type": "code",
   "execution_count": null,
   "metadata": {
    "collapsed": false
   },
   "outputs": [],
   "source": [
    "for app in data_final_google:\n",
    "    if app[1] == 'COMMUNICATION' and (app[5] == '1,000,000,000+'\n",
    "                                      or app[5] == '500,000,000+'\n",
    "                                      or app[5] == '100,000,000+'):\n",
    "        print(app[0], ':', app[5])"
   ]
  },
  {
   "cell_type": "markdown",
   "metadata": {},
   "source": [
    "Based on further analysis, the genres for `Game` and `Books and Reference` seems to do well in the  with an average number of installs of 15,588,015 and 8,767,811 respectively. This data is insightful because the previous recommendation for the app store could potentially be used for the google playstore meaning the company could practically launch the same app that is compatible on both mobile markets."
   ]
  },
  {
   "cell_type": "code",
   "execution_count": null,
   "metadata": {
    "collapsed": false
   },
   "outputs": [],
   "source": [
    "for app in data_final_google:\n",
    "    if app[1] == 'BOOKS_AND_REFERENCE':\n",
    "        print(app[0], ':', app[5])"
   ]
  },
  {
   "cell_type": "markdown",
   "metadata": {},
   "source": [
    "### Recommendation\n",
    "\n",
    "Publishing a free mobile app in the `Books and Reference` genre could be promising for the company since the objective is to significantly increase the user base, this genre seems to be doing very well and keeping up with the popularity of genres geared towards fun and entertainement like games, social networking, photography and video. This pattern is observed for both sample datasets from the google playstore market and apple app store. \n",
    "\n",
    "Publishing the mobile version of a highly popular book could prove to be a success for bringing in more mobile users. Possibly, this could be a book which could be geared towards both family and fun category by trying to integrate puzzles, mini games, quizzes, thereby building parts of the highly popular genres on the market into the same mobile app, possible ideas for the soon to be developed mobile apps from the company."
   ]
  }
 ],
 "metadata": {
  "kernelspec": {
   "display_name": "Python 3",
   "language": "python",
   "name": "python3"
  },
  "language_info": {
   "codemirror_mode": {
    "name": "ipython",
    "version": 3
   },
   "file_extension": ".py",
   "mimetype": "text/x-python",
   "name": "python",
   "nbconvert_exporter": "python",
   "pygments_lexer": "ipython3",
   "version": "3.4.3"
  }
 },
 "nbformat": 4,
 "nbformat_minor": 2
}
