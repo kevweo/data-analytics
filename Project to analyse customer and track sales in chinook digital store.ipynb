{
 "cells": [
  {
   "cell_type": "markdown",
   "metadata": {},
   "source": [
    "### Project: explore customer and track sales in chinook digital store\n",
    "The objective for this project is to analyse data from the chinook database, which has information about a fictional digital music shop - kind of like a mini-iTunes store.\n",
    "\n",
    "The chinook database contains information about the artists, songs, and albums from the music shop, as well as information on the shop's employees, customers, and the customers purchases. This information is contained in eleven tables, click [here](https://github.com/lerocha/chinook-database) to visit the github repository.\n"
   ]
  },
  {
   "cell_type": "code",
   "execution_count": null,
   "metadata": {},
   "outputs": [],
   "source": [
    "%%capture\n",
    "%load_ext sql\n",
    "%sql sqlite:///chinook.db"
   ]
  },
  {
   "cell_type": "markdown",
   "metadata": {},
   "source": [
    "Preview data tables in the chinook db file."
   ]
  },
  {
   "cell_type": "code",
   "execution_count": null,
   "metadata": {},
   "outputs": [],
   "source": [
    "%%sql\n",
    "SELECT\n",
    "    name,\n",
    "    type\n",
    "FROM sqlite_master\n",
    "WHERE type IN (\"table\",\"view\");"
   ]
  },
  {
   "cell_type": "markdown",
   "metadata": {},
   "source": [
    "### Popular music genres in the US\n",
    "\n",
    "The most popular music genre for customers purchasing music from the US is `Rock`. The `Rock` genre has 53% of sales from customer purchases while the `Alternative & Punk` genre has 12% of sales followed closely behind by `Metal` genre which has 11.7% of sales. Much further from the Top 3 genres in fourth place is the `R&B/Soul` music genre which has 5% of total sales.\n",
    "\n",
    "Based on global sales of tracks across different genres in the US, Chinook record store should purchase albums by the first three artists:\n",
    "\n",
    "- `Red Tone\t- Punk`: Punk genre is ranked 2nd overall in sales (Recommended) \n",
    "- `Slim Jim Bites - Blues`: Blues genre is ranked 5th overall (Recommended)\n",
    "- `Meteor and the Girls - Pop`: Pop genre is ranked joint 7th overall with `Latin` music (Recommended)\n",
    "\n",
    "The below artist narrowly missed the recommended shortlist, though hip-hop/rap might be ranked 8th overall in customer purchases from the US, the genre was only 0.19 per-cent off the 7th position.\n",
    "- `Regal - Hip-Hop`: Hip Hop/Rap genre is ranked 8th overall"
   ]
  },
  {
   "cell_type": "code",
   "execution_count": null,
   "metadata": {},
   "outputs": [],
   "source": [
    "%%sql\n",
    "WITH popular_usa_genres AS \n",
    "   (\n",
    "    SELECT il.*,\n",
    "           c.country \n",
    "    FROM invoice_line il\n",
    "    INNER JOIN invoice i on il.invoice_id = i.invoice_id\n",
    "    INNER JOIN customer c on i.customer_id = c.customer_id\n",
    "    WHERE c.country = \"USA\"\n",
    "   )\n",
    "SELECT g.name genre, \n",
    "       COUNT(pug.invoice_line_id) tracks_purchased, \n",
    "       round(CAST(COUNT(pug.invoice_line_id) AS FLOAT) / (\n",
    "           SELECT COUNT(*)\n",
    "           FROM popular_usa_genres\n",
    "       ) * 100, 2) percentage_purchased\n",
    "FROM popular_usa_genres pug\n",
    "INNER JOIN track t on t.track_id = pug.track_id\n",
    "INNER JOIN genre g on g.genre_id = t.genre_id\n",
    "GROUP BY g.genre_id\n",
    "ORDER BY tracks_purchased desc;"
   ]
  },
  {
   "cell_type": "markdown",
   "metadata": {},
   "source": [
    "### Total customer sales by sales support agent\n",
    "\n",
    "The below data displays total dollar amount of sales assigned to each Sales Support Agent within the organisation.\n",
    "\n",
    "The highest performing Sales Agent employee is Jane Peacock with 36.77% of total sales followed closely by Margaret Park with 33.63%. Steve Johnson has the least percentage of sales recorded with 29.6%, roughly 7% off the top performing employee. \n",
    "\n",
    "Based on the hire date for these employees, the data suggests that the employee performance in sales seems to have some correlation with the dates at which they had joined the company. Jane was the first sales support agent amongst the three to be hired, while Steve's percentage sales amount could be due to being hired at least five months later than the others."
   ]
  },
  {
   "cell_type": "code",
   "execution_count": null,
   "metadata": {},
   "outputs": [],
   "source": [
    "%%sql\n",
    "WITH rep_sales AS\n",
    "    (\n",
    "        SELECT\n",
    "        c.customer_id,\n",
    "        round(sum(i.total), 2) rep_sales_total,\n",
    "        c.support_rep_id\n",
    "        FROM customer c\n",
    "        INNER JOIN invoice i on i.customer_id = c.customer_id\n",
    "        GROUP BY i.customer_id\n",
    "    )\n",
    "SELECT \n",
    "    e.first_name || ' ' || e.last_name employee_name,\n",
    "    SUM(rs.rep_sales_total) rep_sales_total,\n",
    "    round(CAST(SUM(rs.rep_sales_total) AS FLOAT) /\n",
    "    (\n",
    "        SELECT SUM(rep_sales_total) \n",
    "        FROM rep_sales\n",
    "    ) * 100, 2) percentage_sales,\n",
    "    e.hire_date\n",
    "FROM rep_sales rs\n",
    "INNER JOIN employee e on e.employee_id = rs.support_rep_id\n",
    "WHERE e.title in ('Sales Support Agent')\n",
    "GROUP BY employee_name;\n"
   ]
  },
  {
   "cell_type": "markdown",
   "metadata": {},
   "source": [
    "### Sales data for customers per country\n",
    "\n",
    "The below shows sales data, for each country by calculating:\n",
    "\n",
    "- total number of customers\n",
    "- total value of sales\n",
    "- average value of sales per customer\n",
    "- average order value\n",
    "Because there are a number of countries with only one customer, these customers will be grouped in 'Other'.\n",
    "\n",
    "\n",
    "The US might have the most customer sales overall, but the average order value per customer is only `$80` (the second lowest total amount across the countries excluding those with only one customer grouped in 'other'). The data suggests that there might be opportunity for higher sales in Czech Republic and Portugal which have `$136.62` and `$92.57` average order values per customer, though this data should be used with caution due to the limited sample size being used for the analysis."
   ]
  },
  {
   "cell_type": "code",
   "execution_count": null,
   "metadata": {},
   "outputs": [],
   "source": [
    "%%sql\n",
    "WITH customer_sales AS \n",
    "   (\n",
    "    SELECT il.*,\n",
    "           CASE\n",
    "               WHEN (\n",
    "                     SELECT count(*)\n",
    "                     FROM customer\n",
    "                     where country = c.country\n",
    "                    ) = 1 THEN \"Other\"\n",
    "               ELSE c.country\n",
    "           END AS country, \n",
    "           i.total,\n",
    "           c.customer_id\n",
    "    FROM invoice_line il\n",
    "    INNER JOIN invoice i on il.invoice_id = i.invoice_id\n",
    "    INNER JOIN customer c on i.customer_id = c.customer_id\n",
    "   )\n",
    "SELECT \n",
    "    country, \n",
    "    count(distinct(customer_id)) total_customers, \n",
    "    round(SUM(unit_price), 2) total_sales,\n",
    "    round(SUM(unit_price) / count(distinct customer_id), 2) avg_sales_per_customer,\n",
    "    round(SUM(unit_price) / count(distinct invoice_id), 2) avg_order_value\n",
    "FROM customer_sales cs\n",
    "GROUP BY country\n",
    "ORDER BY total_sales DESC;"
   ]
  },
  {
   "cell_type": "markdown",
   "metadata": {},
   "source": [
    "### Popular artists used in the most playlists\n",
    "The most popular artist used in playlists is `Iron Maiden` while `U2` and `Metallica` come in 2nd and 3rd place overall."
   ]
  },
  {
   "cell_type": "code",
   "execution_count": null,
   "metadata": {},
   "outputs": [],
   "source": [
    "%%sql\n",
    "SELECT \n",
    "    a.artist_id, \n",
    "    a.name artist_name, \n",
    "    count(a.name) tracks_in_playlist\n",
    "FROM playlist_track pt\n",
    "INNER JOIN track t on t.track_id = pt.track_id\n",
    "INNER JOIN album ab on ab.album_id = t.album_id\n",
    "INNER JOIN artist a on a.artist_id = ab.artist_id\n",
    "GROUP BY a.name\n",
    "ORDER BY tracks_in_playlist DESC\n",
    "LIMIT 10;"
   ]
  },
  {
   "cell_type": "markdown",
   "metadata": {},
   "source": [
    "### Total count of purchased and non-purchased tracks \n",
    "\n",
    "There are a total of `3503` tracks stored in the `track` table, of this, customers have purchased `1806` tracks from the library. There are still `1697` tracks yet to be purchased. "
   ]
  },
  {
   "cell_type": "code",
   "execution_count": null,
   "metadata": {},
   "outputs": [],
   "source": [
    "%%sql\n",
    "WITH total_tracks AS \n",
    "    (\n",
    "        SELECT \n",
    "            count(distinct track_id) total_tracks, \n",
    "    (\n",
    "        SELECT \n",
    "            count(distinct track_id) \n",
    "        FROM invoice_line) purchased\n",
    "        FROM track\n",
    "    )\n",
    "SELECT tt.*, \n",
    "       (tt.total_tracks - tt.purchased) non_purchased \n",
    "FROM total_tracks tt;"
   ]
  },
  {
   "cell_type": "markdown",
   "metadata": {},
   "source": [
    "Displayed below are some of the tracks which are *yet* to be purchased from the store."
   ]
  },
  {
   "cell_type": "code",
   "execution_count": null,
   "metadata": {},
   "outputs": [],
   "source": [
    "%%sql\n",
    "SELECT \n",
    "    t.*\n",
    "FROM track t \n",
    "WHERE t.track_id not in (\n",
    "    SELECT \n",
    "        il.track_id \n",
    "    FROM invoice_line il\n",
    "    )\n",
    "LIMIT 10;"
   ]
  }
 ],
 "metadata": {
  "kernelspec": {
   "display_name": "Python 3",
   "language": "python",
   "name": "python3"
  },
  "language_info": {
   "codemirror_mode": {
    "name": "ipython",
    "version": 3
   },
   "file_extension": ".py",
   "mimetype": "text/x-python",
   "name": "python",
   "nbconvert_exporter": "python",
   "pygments_lexer": "ipython3",
   "version": "3.7.6"
  }
 },
 "nbformat": 4,
 "nbformat_minor": 4
}
